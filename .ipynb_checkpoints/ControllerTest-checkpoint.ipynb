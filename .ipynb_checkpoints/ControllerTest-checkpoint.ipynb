{
 "cells": [
  {
   "cell_type": "code",
   "execution_count": 1,
   "metadata": {},
   "outputs": [
    {
     "name": "stdout",
     "output_type": "stream",
     "text": [
      "Right Trigger: 38%\n",
      "Val to send to esc: 138\n",
      "Val to send to esc: 100\n",
      "Right Trigger: 100%\n",
      "Val to send to esc: 200\n",
      "Val to send to esc: 100\n",
      "Right Trigger: 99%\n",
      "Val to send to esc: 199\n",
      "Val to send to esc: 100\n",
      "Right Trigger: 68%\n",
      "Val to send to esc: 168\n",
      "Val to send to esc: 100\n",
      "Right Trigger: 35%\n",
      "Val to send to esc: 135\n",
      "Val to send to esc: 100\n",
      "Right Trigger: 3%\n",
      "Val to send to esc: 103\n",
      "Val to send to esc: 100\n",
      "Right Trigger: 0%\n",
      "Val to send to esc: 100\n",
      "Val to send to esc: 100\n",
      "Val to send to esc: -452\n",
      "Val to send to esc: 100\n",
      "Val to send to esc: -413\n",
      "Val to send to esc: 100\n",
      "Val to send to esc: -438\n",
      "Val to send to esc: 100\n"
     ]
    },
    {
     "ename": "UnpluggedError",
     "evalue": "Gamepad 0 is not connected",
     "output_type": "error",
     "traceback": [
      "\u001b[1;31m---------------------------------------------------------------------------\u001b[0m",
      "\u001b[1;31mUnpluggedError\u001b[0m                            Traceback (most recent call last)",
      "\u001b[1;32m<ipython-input-1-8a3a6c73b302>\u001b[0m in \u001b[0;36m<module>\u001b[1;34m\u001b[0m\n\u001b[0;32m      7\u001b[0m \u001b[1;33m\u001b[0m\u001b[0m\n\u001b[0;32m      8\u001b[0m \u001b[1;32mwhile\u001b[0m \u001b[1;36m1\u001b[0m\u001b[1;33m:\u001b[0m\u001b[1;33m\u001b[0m\u001b[1;33m\u001b[0m\u001b[0m\n\u001b[1;32m----> 9\u001b[1;33m     \u001b[0mevents\u001b[0m \u001b[1;33m=\u001b[0m \u001b[0mget_gamepad\u001b[0m\u001b[1;33m(\u001b[0m\u001b[1;33m)\u001b[0m\u001b[1;33m\u001b[0m\u001b[1;33m\u001b[0m\u001b[0m\n\u001b[0m\u001b[0;32m     10\u001b[0m     \u001b[1;32mfor\u001b[0m \u001b[0mevent\u001b[0m \u001b[1;32min\u001b[0m \u001b[0mevents\u001b[0m\u001b[1;33m:\u001b[0m\u001b[1;33m\u001b[0m\u001b[1;33m\u001b[0m\u001b[0m\n\u001b[0;32m     11\u001b[0m         \u001b[1;31m#Triggers Max: 255 Min: 0\u001b[0m\u001b[1;33m\u001b[0m\u001b[1;33m\u001b[0m\u001b[1;33m\u001b[0m\u001b[0m\n",
      "\u001b[1;32m~\\AppData\\Local\\Continuum\\anaconda3\\lib\\site-packages\\inputs.py\u001b[0m in \u001b[0;36mget_gamepad\u001b[1;34m()\u001b[0m\n\u001b[0;32m   3677\u001b[0m     \u001b[1;32mexcept\u001b[0m \u001b[0mIndexError\u001b[0m\u001b[1;33m:\u001b[0m\u001b[1;33m\u001b[0m\u001b[1;33m\u001b[0m\u001b[0m\n\u001b[0;32m   3678\u001b[0m         \u001b[1;32mraise\u001b[0m \u001b[0mUnpluggedError\u001b[0m\u001b[1;33m(\u001b[0m\u001b[1;34m\"No gamepad found.\"\u001b[0m\u001b[1;33m)\u001b[0m\u001b[1;33m\u001b[0m\u001b[1;33m\u001b[0m\u001b[0m\n\u001b[1;32m-> 3679\u001b[1;33m     \u001b[1;32mreturn\u001b[0m \u001b[0mgamepad\u001b[0m\u001b[1;33m.\u001b[0m\u001b[0mread\u001b[0m\u001b[1;33m(\u001b[0m\u001b[1;33m)\u001b[0m\u001b[1;33m\u001b[0m\u001b[1;33m\u001b[0m\u001b[0m\n\u001b[0m",
      "\u001b[1;32m~\\AppData\\Local\\Continuum\\anaconda3\\lib\\site-packages\\inputs.py\u001b[0m in \u001b[0;36mread\u001b[1;34m(self)\u001b[0m\n\u001b[0;32m   2515\u001b[0m     \u001b[1;32mdef\u001b[0m \u001b[0mread\u001b[0m\u001b[1;33m(\u001b[0m\u001b[0mself\u001b[0m\u001b[1;33m)\u001b[0m\u001b[1;33m:\u001b[0m\u001b[1;33m\u001b[0m\u001b[1;33m\u001b[0m\u001b[0m\n\u001b[0;32m   2516\u001b[0m         \u001b[1;34m\"\"\"Read the next input event.\"\"\"\u001b[0m\u001b[1;33m\u001b[0m\u001b[1;33m\u001b[0m\u001b[0m\n\u001b[1;32m-> 2517\u001b[1;33m         \u001b[1;32mreturn\u001b[0m \u001b[0mnext\u001b[0m\u001b[1;33m(\u001b[0m\u001b[0miter\u001b[0m\u001b[1;33m(\u001b[0m\u001b[0mself\u001b[0m\u001b[1;33m)\u001b[0m\u001b[1;33m)\u001b[0m\u001b[1;33m\u001b[0m\u001b[1;33m\u001b[0m\u001b[0m\n\u001b[0m\u001b[0;32m   2518\u001b[0m \u001b[1;33m\u001b[0m\u001b[0m\n\u001b[0;32m   2519\u001b[0m     \u001b[1;33m@\u001b[0m\u001b[0mproperty\u001b[0m\u001b[1;33m\u001b[0m\u001b[1;33m\u001b[0m\u001b[0m\n",
      "\u001b[1;32m~\\AppData\\Local\\Continuum\\anaconda3\\lib\\site-packages\\inputs.py\u001b[0m in \u001b[0;36m__iter__\u001b[1;34m(self)\u001b[0m\n\u001b[0;32m   2684\u001b[0m         \u001b[1;32mwhile\u001b[0m \u001b[1;32mTrue\u001b[0m\u001b[1;33m:\u001b[0m\u001b[1;33m\u001b[0m\u001b[1;33m\u001b[0m\u001b[0m\n\u001b[0;32m   2685\u001b[0m             \u001b[1;32mif\u001b[0m \u001b[0mWIN\u001b[0m\u001b[1;33m:\u001b[0m\u001b[1;33m\u001b[0m\u001b[1;33m\u001b[0m\u001b[0m\n\u001b[1;32m-> 2686\u001b[1;33m                 \u001b[0mself\u001b[0m\u001b[1;33m.\u001b[0m\u001b[0m__check_state\u001b[0m\u001b[1;33m(\u001b[0m\u001b[1;33m)\u001b[0m\u001b[1;33m\u001b[0m\u001b[1;33m\u001b[0m\u001b[0m\n\u001b[0m\u001b[0;32m   2687\u001b[0m             \u001b[0mevent\u001b[0m \u001b[1;33m=\u001b[0m \u001b[0mself\u001b[0m\u001b[1;33m.\u001b[0m\u001b[0m_do_iter\u001b[0m\u001b[1;33m(\u001b[0m\u001b[1;33m)\u001b[0m\u001b[1;33m\u001b[0m\u001b[1;33m\u001b[0m\u001b[0m\n\u001b[0;32m   2688\u001b[0m             \u001b[1;32mif\u001b[0m \u001b[0mevent\u001b[0m\u001b[1;33m:\u001b[0m\u001b[1;33m\u001b[0m\u001b[1;33m\u001b[0m\u001b[0m\n",
      "\u001b[1;32m~\\AppData\\Local\\Continuum\\anaconda3\\lib\\site-packages\\inputs.py\u001b[0m in \u001b[0;36m__check_state\u001b[1;34m(self)\u001b[0m\n\u001b[0;32m   2694\u001b[0m         \u001b[1;32mif\u001b[0m \u001b[1;32mnot\u001b[0m \u001b[0mstate\u001b[0m\u001b[1;33m:\u001b[0m\u001b[1;33m\u001b[0m\u001b[1;33m\u001b[0m\u001b[0m\n\u001b[0;32m   2695\u001b[0m             raise UnpluggedError(\n\u001b[1;32m-> 2696\u001b[1;33m                 \"Gamepad %d is not connected\" % self.__device_number)\n\u001b[0m\u001b[0;32m   2697\u001b[0m         \u001b[1;32mif\u001b[0m \u001b[0mstate\u001b[0m\u001b[1;33m.\u001b[0m\u001b[0mpacket_number\u001b[0m \u001b[1;33m!=\u001b[0m \u001b[0mself\u001b[0m\u001b[1;33m.\u001b[0m\u001b[0m__last_state\u001b[0m\u001b[1;33m.\u001b[0m\u001b[0mpacket_number\u001b[0m\u001b[1;33m:\u001b[0m\u001b[1;33m\u001b[0m\u001b[1;33m\u001b[0m\u001b[0m\n\u001b[0;32m   2698\u001b[0m             \u001b[1;31m# state has changed, handle the change\u001b[0m\u001b[1;33m\u001b[0m\u001b[1;33m\u001b[0m\u001b[1;33m\u001b[0m\u001b[0m\n",
      "\u001b[1;31mUnpluggedError\u001b[0m: Gamepad 0 is not connected"
     ]
    }
   ],
   "source": [
    "from inputs import get_gamepad\n",
    "minESC = 100\n",
    "maxESC = 200\n",
    "\n",
    "minThrottle = 0\n",
    "maxThrottle = 255\n",
    "\n",
    "while 1:\n",
    "    events = get_gamepad()\n",
    "    for event in events:\n",
    "        #Triggers Max: 255 Min: 0\n",
    "        if(event.code == \"ABS_Z\"):\n",
    "            percentage = (event.state/255)\n",
    "            escValue = (((maxESC-minESC)/(maxThrottle-minThrottle))*event.state + minESC)\n",
    "            print(\"Left Trigger: \"+str(int(percentage*100))+\"%\")\n",
    "        if(event.code == \"ABS_RZ\"):\n",
    "            percentage = (event.state/255)\n",
    "            escValue = (((maxESC-minESC)/(maxThrottle-minThrottle))*event.state + minESC)\n",
    "            print(\"Right Trigger: \"+str(int(percentage*100))+\"%\")\n",
    "        print(\"Val to send to esc: \"+str(int(escValue)))\n",
    "        #print(event.state)"
   ]
  },
  {
   "cell_type": "code",
   "execution_count": null,
   "metadata": {},
   "outputs": [],
   "source": []
  },
  {
   "cell_type": "code",
   "execution_count": null,
   "metadata": {},
   "outputs": [],
   "source": []
  }
 ],
 "metadata": {
  "kernelspec": {
   "display_name": "Python 3",
   "language": "python",
   "name": "python3"
  },
  "language_info": {
   "codemirror_mode": {
    "name": "ipython",
    "version": 3
   },
   "file_extension": ".py",
   "mimetype": "text/x-python",
   "name": "python",
   "nbconvert_exporter": "python",
   "pygments_lexer": "ipython3",
   "version": "3.7.1"
  }
 },
 "nbformat": 4,
 "nbformat_minor": 2
}
