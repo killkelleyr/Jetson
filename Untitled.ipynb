{
 "cells": [
  {
   "cell_type": "code",
   "execution_count": null,
   "metadata": {},
   "outputs": [
    {
     "name": "stdout",
     "output_type": "stream",
     "text": [
      "Right Trigger: 38%\n",
      "Val to send to esc: 138\n",
      "Val to send to esc: 100\n",
      "Right Trigger: 100%\n",
      "Val to send to esc: 200\n",
      "Val to send to esc: 100\n",
      "Right Trigger: 99%\n",
      "Val to send to esc: 199\n",
      "Val to send to esc: 100\n",
      "Right Trigger: 68%\n",
      "Val to send to esc: 168\n",
      "Val to send to esc: 100\n",
      "Right Trigger: 35%\n",
      "Val to send to esc: 135\n",
      "Val to send to esc: 100\n",
      "Right Trigger: 3%\n",
      "Val to send to esc: 103\n",
      "Val to send to esc: 100\n",
      "Right Trigger: 0%\n",
      "Val to send to esc: 100\n",
      "Val to send to esc: 100\n",
      "Val to send to esc: -452\n",
      "Val to send to esc: 100\n",
      "Val to send to esc: -413\n",
      "Val to send to esc: 100\n",
      "Val to send to esc: -438\n",
      "Val to send to esc: 100\n"
     ]
    }
   ],
   "source": [
    "from inputs import get_gamepad\n",
    "minESC = 100\n",
    "maxESC = 200\n",
    "\n",
    "minThrottle = 0\n",
    "maxThrottle = 255\n",
    "\n",
    "while 1:\n",
    "    events = get_gamepad()\n",
    "    for event in events:\n",
    "        #Triggers Max: 255 Min: 0\n",
    "        if(event.code == \"ABS_Z\"):\n",
    "            percentage = (event.state/255)\n",
    "            escValue = (((maxESC-minESC)/(maxThrottle-minThrottle))*event.state + minESC)\n",
    "            print(\"Left Trigger: \"+str(int(percentage*100))+\"%\")\n",
    "        if(event.code == \"ABS_RZ\"):\n",
    "            percentage = (event.state/255)\n",
    "            escValue = (((maxESC-minESC)/(maxThrottle-minThrottle))*event.state + minESC)\n",
    "            print(\"Right Trigger: \"+str(int(percentage*100))+\"%\")\n",
    "        print(\"Val to send to esc: \"+str(int(escValue)))\n",
    "        #print(event.state)"
   ]
  },
  {
   "cell_type": "code",
   "execution_count": null,
   "metadata": {},
   "outputs": [],
   "source": []
  },
  {
   "cell_type": "code",
   "execution_count": null,
   "metadata": {},
   "outputs": [],
   "source": []
  }
 ],
 "metadata": {
  "kernelspec": {
   "display_name": "Python 3",
   "language": "python",
   "name": "python3"
  },
  "language_info": {
   "codemirror_mode": {
    "name": "ipython",
    "version": 3
   },
   "file_extension": ".py",
   "mimetype": "text/x-python",
   "name": "python",
   "nbconvert_exporter": "python",
   "pygments_lexer": "ipython3",
   "version": "3.7.1"
  }
 },
 "nbformat": 4,
 "nbformat_minor": 2
}
