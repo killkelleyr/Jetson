{
 "cells": [
  {
   "cell_type": "code",
   "execution_count": null,
   "metadata": {},
   "outputs": [],
   "source": [
    "import socket\n",
    "import time\n",
    "from multiprocessing import Manager, Process\n",
    "\n",
    "print(\"Opening Port\")\n",
    "#Define the server IP and Port to open\n",
    "HOST='192.168.1.162'\n",
    "PORT=5002\n",
    "s=socket.socket(socket.AF_INET, socket.SOCK_STREAM)\n",
    "\n",
    "s.bind((HOST, PORT))\n",
    "s.listen(2)\n",
    "conn, addr=s.accept()\n",
    "\n",
    "escValLeft = 2554\n",
    "escValRight = 2554\n",
    "\n",
    "print(\"Starting Code\")\n",
    "\n",
    "def sendtoclient():\n",
    "    while True:\n",
    "        \n",
    "        val = str(int(escValLeft))+\",\"+str(int(escValRight))+sep\n",
    "        print(\"Sending: \" + val)\n",
    "        conn.send(val)\n",
    "\n",
    "\n",
    "sendtoclient()"
   ]
  },
  {
   "cell_type": "code",
   "execution_count": null,
   "metadata": {},
   "outputs": [],
   "source": []
  }
 ],
 "metadata": {
  "kernelspec": {
   "display_name": "Python 3",
   "language": "python",
   "name": "python3"
  },
  "language_info": {
   "codemirror_mode": {
    "name": "ipython",
    "version": 3
   },
   "file_extension": ".py",
   "mimetype": "text/x-python",
   "name": "python",
   "nbconvert_exporter": "python",
   "pygments_lexer": "ipython3",
   "version": "3.7.1"
  }
 },
 "nbformat": 4,
 "nbformat_minor": 2
}
